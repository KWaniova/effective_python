{
 "cells": [
  {
   "cell_type": "markdown",
   "metadata": {},
   "source": [
    "## Lab 02"
   ]
  },
  {
   "cell_type": "markdown",
   "metadata": {},
   "source": [
    "### Zadanie 1"
   ]
  },
  {
   "cell_type": "markdown",
   "metadata": {},
   "source": [
    "Dwa napisy są anagramami, jeśli jesteśmy w stanie w taki sposób poprzestawiać litery w jednym napisie, aby uzyskać drugi (nie możemy żadnej litery się pozbyć ani dodać). Przykładowo:\n",
    "\n",
    "  * abcd i dcba są anagramami\n",
    "  * aba i baa są anagramami\n",
    "  * aba i ba nie są anagramami  \n",
    "\n",
    "Zaimplementuj poniższą funkcja tak, aby sprawdzała czy dwa słowa są anagramamy w iterując po każdym słownie maksymalnie raz."
   ]
  },
  {
   "cell_type": "code",
   "execution_count": 1,
   "metadata": {},
   "outputs": [
    {
     "name": "stdout",
     "output_type": "stream",
     "text": [
      "True\n",
      "True\n",
      "True\n",
      "True\n"
     ]
    }
   ],
   "source": [
    "def check_anagram(first, second):\n",
    "    \"\"\" Sprawdza czy podane wyrazy są anagramami \"\"\"\n",
    "#     if len(first) != len(second): return False\n",
    "#     for letter in first:\n",
    "#         if letter not in second: return False\n",
    "#         second = second.replace(letter, \"\",1)\n",
    "#     return True\n",
    "    return sorted(first) == sorted(second)\n",
    "\n",
    "print(check_anagram(\"abcd\", \"dcba\") == True)\n",
    "print(check_anagram(\"aba\", \"baa\") == True)\n",
    "print(check_anagram(\"aba\", \"ba\") == False)\n",
    "print(check_anagram(\"tom marvolo riddle \", \"i am lord voldemort\") == True)"
   ]
  },
  {
   "cell_type": "markdown",
   "metadata": {},
   "source": [
    "### Zadanie 2"
   ]
  },
  {
   "cell_type": "code",
   "execution_count": 14,
   "metadata": {},
   "outputs": [
    {
     "name": "stdout",
     "output_type": "stream",
     "text": [
      "True\n",
      "True\n"
     ]
    }
   ],
   "source": [
    "\n",
    "\n",
    "def gaderypoluki(text, key):\n",
    "    \"\"\"\n",
    "    Funkcja powinna szyfrować (lub odszyfrować) tekst szyfrem GADERYPOLUKI (lub podobnym)\n",
    "    https://pl.wikipedia.org/wiki/Gaderypoluki\n",
    "    \"\"\"\n",
    "    # keyX = key.lower()\n",
    "    # textX = text.lower()\n",
    "    # encrypted = \"\"\n",
    "    # for x in textX:\n",
    "    #     if x in keyX:\n",
    "    #         if keyX.index(x) % 2 == 0:\n",
    "    #             encrypted += keyX[keyX.index(x) + 1]\n",
    "    #         else:\n",
    "    #             encrypted += keyX[keyX.index(x) - 1]\n",
    "    #     else:\n",
    "    #         encrypted += x\n",
    "    # return encrypted\n",
    "    ############################\n",
    "    def getIndexInKey(letter, key):\n",
    "        return key.index(letter) + 1 if key.index(letter) % 2 == 0 else key.index(letter) - 1\n",
    "\n",
    "    lowerKey = key.lower()\n",
    "    lowerText = text.lower()\n",
    "    return \"\".join([(lowerKey[getIndexInKey(x,lowerKey)] if x in lowerKey else x) for x in lowerText])\n",
    "    ############################\n",
    "    # consonants = key[0::2].lower() #spolgloski\n",
    "    # vowels = key[1::2].lower() #samogloski\n",
    "    # # print(consonants, \" :: \", vowels)\n",
    "    # encryptedText = \"\"\n",
    "    # for letter in text.lower():\n",
    "    #     if letter in consonants:\n",
    "    #         encryptedText += vowels[consonants.index(letter)]\n",
    "    #     elif letter in vowels:\n",
    "    #         encryptedText += consonants[vowels.index(letter)]\n",
    "    #     else:\n",
    "    #         encryptedText += letter\n",
    "    # return encryptedText\n",
    "    #############################\n",
    "    # return [letter for letter in text if letter in key[0::2].lower()] # don't know\n",
    "\n",
    "print(gaderypoluki('Ala ma kota', 'GADERYPOLUKI') == 'gug mg iptg')\n",
    "print(gaderypoluki('gug mg iptg', 'GADERYPOLUKI') == 'ala ma kota')"
   ]
  },
  {
   "cell_type": "markdown",
   "metadata": {},
   "source": [
    "### Zadanie 3"
   ]
  },
  {
   "cell_type": "markdown",
   "metadata": {},
   "source": [
    "#### Comprehensions\n",
    "Zapisz każdą z poniższych 4 funkcji w postaci list/dict/set comprehension. Nie należy używać żadnych zmiennych tymczasowych ani dodatkowych linii, każda funkcja ma zostać wyrażona w postaci: <br>\n",
    "```\n",
    "def FUNKCJA(ARGUMENTY):\n",
    "    return COMPREHENSION\n",
    "```"
   ]
  },
  {
   "cell_type": "code",
   "execution_count": 10,
   "metadata": {},
   "outputs": [
    {
     "name": "stdout",
     "output_type": "stream",
     "text": [
      "True\n",
      "True\n",
      "True\n",
      "True\n"
     ]
    }
   ],
   "source": [
    "def even_numbers_from_list(data):\n",
    "    \"\"\"Zwraca podlistę \"data\" zawierającą wyłącznie parzyste liczby\"\"\"\n",
    "    return [x for x in data if x % 2 == 0]\n",
    "#     result = []\n",
    "#     for point in data:\n",
    "#         if point % 2 == 0:\n",
    "#             result.append(point)\n",
    "#     return result\n",
    "\n",
    "print(even_numbers_from_list([1, 2, 3, 4]) == [2, 4])\n",
    "print(even_numbers_from_list(range(10)) == list(range(0, 10, 2)))\n",
    "print(even_numbers_from_list(range(1000)) == list(range(0, 1000, 2)))\n",
    "print(even_numbers_from_list([10, 2, 3, 4, 6, -3, -4]) == [10, 2, 4, 6, -4])"
   ]
  },
  {
   "cell_type": "code",
   "execution_count": 11,
   "metadata": {},
   "outputs": [
    {
     "name": "stdout",
     "output_type": "stream",
     "text": [
      "True\n",
      "True\n"
     ]
    }
   ],
   "source": [
    "def words_analyze(words):\n",
    "    \"\"\"Zwraca listę trójek, gdzie i'ta trójka to (i, i'te słowo, długość i'tego słowa)\"\"\"\n",
    "    return [(words.index(x),x,len(x)) for x in words]\n",
    "    # result = []\n",
    "    # i = 0\n",
    "    # for word in words:\n",
    "    #     result.append((i, word, len(word)))\n",
    "    #     i += 1\n",
    "    # return result\n",
    "\n",
    "print(words_analyze(['tomek', 'jadzia']) == [(0, 'tomek', 5), (1, 'jadzia', 6)])\n",
    "print(words_analyze([]) == [])"
   ]
  },
  {
   "cell_type": "code",
   "execution_count": 18,
   "metadata": {},
   "outputs": [
    {
     "name": "stdout",
     "output_type": "stream",
     "text": [
      "{'ola': 2, 'o': 1}\n",
      "True\n",
      "True\n",
      "True\n"
     ]
    }
   ],
   "source": [
    "def count_words_starting_with_given_letter(text, letter):\n",
    "    \"\"\"Zwraca słownik gdzie kluczami są wszystkie słowa występujące w tekście \n",
    "    rozpoczynające się na zadaną literę, a wartością ile razy wystąpiy\"\"\"\n",
    "    return dict([(word,text.split().count(word)) for word in text.split() if word[0] == letter ])\n",
    "    # regex =r'\\b'+letter+'\\w+|\\b' ???\n",
    "    # print(re.findall(regex,text))\n",
    "    # print(dict([(x, text.count(x)) for x in set(re.findall(regex,text))]))\n",
    "    # return dict([(x, text.count(x)) for x in set(re.findall(regex,text))])\n",
    "    # result = {}\n",
    "    # for word in text.split():\n",
    "    #     if word[0] == letter:\n",
    "    #         if word not in result:\n",
    "    #             result[word] = 1\n",
    "    #         else:\n",
    "    #             result[word] += 1\n",
    "    # return result\n",
    "\n",
    "print(count_words_starting_with_given_letter('ola ma kota o imieniu ola', 'o'))\n",
    "print(count_words_starting_with_given_letter('ola ma kota o imieniu ola', 'o') == {'ola': 2, 'o': 1})\n",
    "print(count_words_starting_with_given_letter('ola ma kota o imieniu ola', 'k') == {'kota': 1})\n",
    "print(count_words_starting_with_given_letter('ola ma kota o imieniu ola', 'x') == {})"
   ]
  },
  {
   "cell_type": "markdown",
   "metadata": {},
   "source": [
    "### Zadanie 4"
   ]
  },
  {
   "cell_type": "code",
   "execution_count": 3,
   "metadata": {},
   "outputs": [
    {
     "name": "stdout",
     "output_type": "stream",
     "text": [
      "True\n",
      "True\n",
      "True\n"
     ]
    }
   ],
   "source": [
    "def merge_dicts(a, b, f):\n",
    "    '''\n",
    "    Funkcja przyjmuje:\n",
    "    - dwa słowniki a i b\n",
    "    - dwuargumentową funkcję f\n",
    "    Funkcja jako wynik powinna zwrócić słownik, który będzie sumą dwóch słowników.\n",
    "    Sumę dwóch słowników powinniśmy rozumieć jako słownik, w którym zbiór kluczy będzie równy\n",
    "    sumie zbiorów kluczy ze słowników a i b. Gdy jakiś klucz występuje w obu słownikach, to wartość ma być\n",
    "    wynikiem funkcji f obliczonej na wartościach dla danego klucza w słowniku a i słowniku b\n",
    "    '''\n",
    "    # sharedKeysDictionary = dict([(k,f(v, b[k])) for k,v in a.items() if k in b])\n",
    "    # print(dict(b, **dict(a,**dict([(k,f(v, b[k])) for k,v in a.items() if k in b]))))\n",
    "    return dict(b, **dict(a,**dict([(k,f(v, b[k])) for k,v in a.items() if k in b])))\n",
    "\n",
    "def add(a,b):\n",
    "    return a + b\n",
    "\n",
    "print(merge_dicts({'a': 1}, {'b': 1}, add) == {'b': 1, 'a': 1})\n",
    "print(merge_dicts({'a': 1, 'b': 2}, {'b': 1}, add) == {'b': 3, 'a': 1})\n",
    "print(merge_dicts({'a': 1, 'b': 2}, {'b': 1, 'c': 3, 'a': 7}, add) == {'c': 3, 'b': 3, 'a': 8})"
   ]
  },
  {
   "cell_type": "markdown",
   "metadata": {},
   "source": [
    "### Zadanie 5"
   ]
  },
  {
   "cell_type": "markdown",
   "metadata": {},
   "source": [
    "#### _Primes_ ponownie\n",
    "Zaimplementuj funckje z poprzednich ćwiczeń za pomocą _set comperhension_, tak aby cała jej implementacja zmieściła się w jednej linii (jak w powyższych zadaniach)"
   ]
  },
  {
   "cell_type": "code",
   "execution_count": 4,
   "metadata": {},
   "outputs": [
    {
     "name": "stdout",
     "output_type": "stream",
     "text": [
      "True\n",
      "True\n",
      "True\n"
     ]
    }
   ],
   "source": [
    "from math import sqrt\n",
    "\n",
    "def primes(N):\n",
    "    \"\"\"Zwraca zbiór liczb pierwszych od 0 do N włącznie\"\"\"\n",
    "    return set([x for x in range(2,N + 1) if 0 not in [x%y for y in range(2, int(sqrt(x)) + 1)] ])\n",
    "    \n",
    "print(primes(5) == {2, 3, 5})\n",
    "print(primes(10) == {2, 3, 5, 7})\n",
    "print(primes(100) == {2, 3, 5, 7, 11, 13, 17, 19, 23, 29, 31, 37, 41, 43, 47, 53, 59, 61, 67, 71, 73, 79, 83, 89, 97})"
   ]
  },
  {
   "cell_type": "markdown",
   "metadata": {},
   "source": [
    "### Zadanie 6"
   ]
  },
  {
   "cell_type": "markdown",
   "metadata": {},
   "source": [
    "Wykorzystując znieżdzenia generatorów list ([https://www.python.org/dev/peps/pep-0202/](https://www.python.org/dev/peps/pep-0202/))  napisz funkcje, która\n",
    "* wypisze wszystkie pary (x,y) gdzie 0 < x < n oraz 0 < y < n"
   ]
  },
  {
   "cell_type": "code",
   "execution_count": 5,
   "metadata": {},
   "outputs": [],
   "source": [
    "def func1(n):\n",
    "    return [(x,y) for x in range(0,n) for y in range(0,n)]"
   ]
  },
  {
   "cell_type": "code",
   "execution_count": 6,
   "metadata": {},
   "outputs": [
    {
     "name": "stdout",
     "output_type": "stream",
     "text": [
      "True\n",
      "True\n"
     ]
    }
   ],
   "source": [
    "print(func1(3)==[(0, 0), (0, 1), (0, 2), (1, 0), (1, 1), (1, 2), (2, 0), (2, 1), (2, 2)])\n",
    "print(func1(0)==[])"
   ]
  },
  {
   "cell_type": "markdown",
   "metadata": {},
   "source": [
    "* wypisze tylko takie pary dla których x < y"
   ]
  },
  {
   "cell_type": "code",
   "execution_count": 11,
   "metadata": {},
   "outputs": [],
   "source": [
    "def func2(n):\n",
    "    return [(x,y) for x in range(0, n) for y in range(x + 1,n)]"
   ]
  },
  {
   "cell_type": "code",
   "execution_count": 12,
   "metadata": {},
   "outputs": [
    {
     "name": "stdout",
     "output_type": "stream",
     "text": [
      "True\n",
      "True\n"
     ]
    }
   ],
   "source": [
    "print(func2(3)==[(0, 1), (0, 2), (1, 2)])\n",
    "print(func2(4)==[(0, 1), (0, 2), (0, 3), (1, 2), (1, 3), (2, 3)])"
   ]
  },
  {
   "cell_type": "markdown",
   "metadata": {},
   "source": [
    "* wypisze tylko takie pary dla których x > y"
   ]
  },
  {
   "cell_type": "code",
   "execution_count": 24,
   "metadata": {},
   "outputs": [],
   "source": [
    "def func3(n):\n",
    "    return [(x,y) for x in range(0,n) for y in range(0,x)]\n",
    "    # return [(x,y) for y in range(0,n-1) for x in range(y + 1,n)] działa ale zła kolejność..\n",
    "\n",
    "\n",
    "# print(func3(3))\n",
    "# print(func3(4))"
   ]
  },
  {
   "cell_type": "code",
   "execution_count": 25,
   "metadata": {},
   "outputs": [
    {
     "name": "stdout",
     "output_type": "stream",
     "text": [
      "True\n",
      "True\n"
     ]
    }
   ],
   "source": [
    "print(func3(3)==[(1, 0), (2, 0), (2, 1)])\n",
    "print(func3(4)==[(1, 0), (2, 0), (2, 1), (3, 0), (3, 1), (3, 2)])"
   ]
  },
  {
   "cell_type": "markdown",
   "metadata": {},
   "source": [
    "### Zadanie 7"
   ]
  },
  {
   "cell_type": "markdown",
   "metadata": {},
   "source": [
    "Napisz funkcję `powerset`, która zwróci listę wszystkich podzbiorów zadanej listy przekazanej jako argument"
   ]
  },
  {
   "cell_type": "code",
   "execution_count": 40,
   "metadata": {},
   "outputs": [
    {
     "name": "stdout",
     "output_type": "stream",
     "text": [
      "[[], ['a'], ['b'], ['c'], ['a', 'b'], ['a', 'c'], ['b', 'c'], ['a', 'b', 'c']]\n"
     ]
    },
    {
     "data": {
      "text/plain": [
       "[[], ['a'], ['b'], ['c'], ['a', 'b'], ['a', 'c'], ['b', 'c'], ['a', 'b', 'c']]"
      ]
     },
     "execution_count": 40,
     "metadata": {},
     "output_type": "execute_result"
    }
   ],
   "source": [
    "from itertools import combinations\n",
    "\n",
    "def powerset(x):\n",
    "    string = list(x)\n",
    "    powersetArr= []\n",
    "    for index, item in enumerate(x):\n",
    "        for element in combinations(string,index):\n",
    "            # print(list(element))\n",
    "            powersetArr += [list(element)]\n",
    "    powersetArr += [list(x)]\n",
    "    print(powersetArr)\n",
    "    return powersetArr\n",
    "\n",
    "   \n",
    "powerset(\"abc\")"
   ]
  },
  {
   "cell_type": "code",
   "execution_count": 41,
   "metadata": {},
   "outputs": [
    {
     "name": "stdout",
     "output_type": "stream",
     "text": [
      "[[], ['a'], ['b'], ['c'], ['a', 'b'], ['a', 'c'], ['b', 'c'], ['a', 'b', 'c']]\n",
      "False\n",
      "[[], [1], [2], [3], [1, 2], [1, 3], [2, 3], [1, 2, 3]]\n",
      "False\n",
      "[[], ['abc'], [5], [6], ['abc', 5], ['abc', 6], [5, 6], ['abc', 5, 6]]\n",
      "False\n"
     ]
    }
   ],
   "source": [
    "print(powerset('abc')==[[], ['a'], ['b'], ['a', 'b'], ['c'], ['a', 'c'], ['b', 'c'], ['a', 'b', 'c']])\n",
    "print(powerset([1, 2, 3])==[[], [1], [2], [1, 2], [3], [1, 3], [2, 3], [1, 2, 3]])\n",
    "print(powerset(['abc', 5, 6])==[[], ['abc'], [5], ['abc', 5], [6], ['abc', 6], [5, 6], ['abc', 5, 6]])"
   ]
  },
  {
   "cell_type": "markdown",
   "metadata": {},
   "source": [
    "### Zadanie 8"
   ]
  },
  {
   "cell_type": "markdown",
   "metadata": {},
   "source": [
    "Napisz funkcję primes jeszcze raz, tym razem jednak nie wolno Ci użyć pętli (`for`, `while`, etc.) i operatorów `>=`, `<=`"
   ]
  },
  {
   "cell_type": "code",
   "execution_count": 19,
   "metadata": {},
   "outputs": [
    {
     "name": "stdout",
     "output_type": "stream",
     "text": [
      "True\n",
      "True\n",
      "True\n"
     ]
    }
   ],
   "source": [
    "def is_prime(n):\n",
    "    return len(set(filter(lambda k: n%k==0, range(2,n)))) == 0\n",
    "\n",
    "def primes_extra_b(N):\n",
    "    \"\"\"Zwraca zbiór liczb pierwszych od 0 do N włącznie\"\"\"\n",
    "    return set(filter(is_prime, range(2,N+1)))\n",
    "\n",
    "print(primes_extra_b(5) == {2, 3, 5})\n",
    "print(primes_extra_b(10) == {2, 3, 5, 7})\n",
    "print(primes_extra_b(100) == {2, 3, 5, 7, 11, 13, 17, 19, 23, 29, 31, 37, 41, 43, 47, 53, 59, 61, 67, 71, 73, 79, 83, 89, 97})"
   ]
  },
  {
   "cell_type": "code",
   "execution_count": null,
   "metadata": {},
   "outputs": [],
   "source": []
  }
 ],
 "metadata": {
  "kernelspec": {
   "display_name": "Python 3.8.9 64-bit",
   "language": "python",
   "name": "python3"
  },
  "language_info": {
   "codemirror_mode": {
    "name": "ipython",
    "version": 3
   },
   "file_extension": ".py",
   "mimetype": "text/x-python",
   "name": "python",
   "nbconvert_exporter": "python",
   "pygments_lexer": "ipython3",
   "version": "3.8.9"
  },
  "vscode": {
   "interpreter": {
    "hash": "31f2aee4e71d21fbe5cf8b01ff0e069b9275f58929596ceb00d14d90e3e16cd6"
   }
  }
 },
 "nbformat": 4,
 "nbformat_minor": 2
}
