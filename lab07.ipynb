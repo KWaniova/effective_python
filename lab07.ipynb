{
 "cells": [
  {
   "cell_type": "markdown",
   "metadata": {},
   "source": [
    "# Lab 07"
   ]
  },
  {
   "cell_type": "markdown",
   "metadata": {},
   "source": [
    "## Zadanie 1"
   ]
  },
  {
   "cell_type": "markdown",
   "metadata": {},
   "source": [
    "Przygotuj demo programu znajdującego miejsca zerowe metodą Newtona. Wykorzystując `argparse` ([link](https://docs.python.org/3.6/library/argparse.html#module-argparse)) lub `optparse` ([link](https://docs.python.org/3.6/library/optparse.html)) obsłuż:\n",
    "- ustalane punktu startowego,\n",
    "- wielkość kroku w pochodnej,\n",
    "- ilość kroków metody,\n",
    "- dokładność\n",
    "- pomoc\n",
    "\n",
    "Program uruchamiamy podając, np.:"
   ]
  },
  {
   "cell_type": "markdown",
   "metadata": {},
   "source": [
    "`./newton.py x**2+x+1 -h 0.00001`"
   ]
  },
  {
   "cell_type": "code",
   "execution_count": null,
   "metadata": {},
   "outputs": [],
   "source": []
  },
  {
   "cell_type": "markdown",
   "metadata": {},
   "source": [
    "## Zadanie 2"
   ]
  },
  {
   "cell_type": "markdown",
   "metadata": {},
   "source": [
    "Zadanie należy wykonać wykorzystując program `BagOfWords` z poprzednich zajęć.\n",
    "\n",
    "\n",
    "Przerób ją tak, żeby interpunkcja, cyfry i wszelkie inne znaki nie przeszkadzały w parsowaniu tekstu. Uruchom ja na [tekście hamleta](http://www.gutenberg.org/cache/epub/1787/pg1787.txt). Ile razy występuje słowo hamlet? Jak brzmi 10 najczęściej występujących słów?"
   ]
  },
  {
   "cell_type": "markdown",
   "metadata": {},
   "source": [
    "## Zadanie 3"
   ]
  },
  {
   "cell_type": "markdown",
   "metadata": {},
   "source": [
    "Wykorzystując `pickle` zapisz i odczytaj klasy z poprzedniego zadania nakarmonej Hamletem. Porównaj metody i rozmiar."
   ]
  },
  {
   "cell_type": "markdown",
   "metadata": {},
   "source": [
    "Viz 5."
   ]
  },
  {
   "cell_type": "markdown",
   "metadata": {},
   "source": [
    "## Zadanie 4"
   ]
  },
  {
   "cell_type": "markdown",
   "metadata": {},
   "source": [
    "Wykorzystując [https://gist.github.com/pamelafox/986163](https://gist.github.com/pamelafox/986163) podaj aktualną godzinę we:\n",
    "- wszystkich krajach, wyświetlając je zgrupowane względem kontynentów,\n",
    "- przeprowadź symulacyjne wyświetlanie kolejnych krajów w miarę jak w danym kraju wybija północ, opóżnienie wyświetlania ustaw proporcjonalne do realnego czasu"
   ]
  },
  {
   "cell_type": "markdown",
   "metadata": {},
   "source": [
    "## Zadanie 5"
   ]
  },
  {
   "cell_type": "markdown",
   "metadata": {},
   "source": [
    "Dla klasy `BagOfWords` napisz metody `save` oraz `load` wykorzystujące `json`'a do zapisu i odczytu danych."
   ]
  },
  {
   "cell_type": "code",
   "execution_count": 9,
   "metadata": {},
   "outputs": [
    {
     "name": "stdout",
     "output_type": "stream",
     "text": [
      "Test 1[create from file]:\n",
      "Test 2[create from str]:\n",
      "Test 3[add]:\n",
      "Test 4[setitem and getitem]:\n",
      "defaultdict(<class 'int'>, {'Claudius,': 1, 'King': 3, 'of': 33, 'Denmark.': 1, 'Marcellus,': 3, 'Officer.': 1, 'Hamlet,': 1, 'son': 2, 'to': 25, 'the': 46, 'former,': 1, 'and': 31, 'nephew': 1, 'present': 1, 'king.': 1, 'Polonius,': 1, 'Lord': 1, 'Chamberlain.': 1, 'Horatio,': 1, 'friend': 1, 'Hamlet.': 3, 'Laertes,': 1, 'Polonius.': 3, 'Voltemand,': 1, 'courtier.': 6, 'Cornelius,': 1, 'Rosencrantz,': 1, 'Guildenstern,': 1, 'Osric,': 1, 'A': 7, 'Gentleman,': 1, 'Priest.': 1, 'officer.': 2, 'Bernardo,': 2, 'Francisco,': 2, 'a': 8, 'soldier': 1, 'Reynaldo,': 1, 'servant': 1, 'Players.': 1, 'Two': 1, 'Clowns,': 1, 'gravediggers.': 1, 'Fortinbras,': 3, 'Prince': 1, 'Norway.': 1, 'Norwegian': 1, 'Captain.': 1, 'English': 1, 'Ambassadors.': 1, 'Getrude,': 1, 'Queen': 1, 'Denmark,': 1, 'mother': 1, 'Ophelia,': 1, 'daughter': 1, 'Ghost': 1, \"Hamlet's\": 1, 'Father.': 1, 'Lords,': 1, 'ladies,': 1, 'Officers,': 1, 'Soldiers,': 1, 'Sailors,': 1, 'Messengers,': 1, 'Attendants.': 1, 'SCENE.-': 1, 'Elsinore.': 2, 'ACT': 1, 'I.': 3, 'Scene': 1, 'platform': 1, 'before': 1, 'Castle.': 1, 'Enter': 3, 'two': 2, 'Sentinels-[first,]': 1, '[who': 2, 'paces': 1, 'up': 2, 'down': 2, 'at': 3, 'his': 5, 'post;': 1, 'then]': 1, 'approaches': 1, 'him].': 1, 'Ber.': 17, \"Who's\": 1, 'there.?': 1, 'Fran.': 8, 'Nay,': 1, 'answer': 1, 'me.': 1, 'Stand': 1, 'unfold': 1, 'yourself.': 1, 'Long': 1, 'live': 1, 'King!': 1, 'Bernardo?': 1, 'He.': 1, 'You': 2, 'come': 1, 'most': 4, 'carefully': 1, 'upon': 1, 'your': 2, 'hour.': 1, \"'Tis\": 4, 'now': 3, 'struck': 1, 'twelve.': 1, 'Get': 1, 'thee': 4, 'bed,': 1, 'Francisco.': 1, 'For': 2, 'this': 17, 'relief': 1, 'much': 1, 'thanks.': 1, 'bitter': 1, 'cold,': 1, 'And': 11, 'I': 11, 'am': 1, 'sick': 2, 'heart.': 1, 'Have': 2, 'you': 6, 'had': 3, 'quiet': 1, 'guard?': 1, 'Not': 1, 'mouse': 1, 'stirring.': 1, 'Well,': 2, 'good': 4, 'night.': 3, 'If': 1, 'do': 1, 'meet': 1, 'Horatio': 4, 'The': 4, 'rivals': 1, 'my': 4, 'watch,': 3, 'bid': 1, 'them': 1, 'make': 2, 'haste.': 1, 'Marcellus.': 2, 'think': 3, 'hear': 2, 'them.': 1, 'Stand,': 1, 'ho!': 1, 'Who': 3, 'is': 6, 'there?': 1, 'Hor.': 12, 'Friends': 1, 'ground.': 1, 'Mar.': 13, 'liegemen': 1, 'Dane.': 1, 'Give': 2, 'O,': 1, 'farewell,': 1, 'honest': 1, 'soldier.': 1, 'hath': 4, \"reliev'd\": 1, 'you?': 1, 'Bernardo': 2, 'place.': 1, 'Exit.': 1, 'Holla,': 1, 'Bernardo!': 1, 'Say-': 1, 'What,': 2, 'there': 1, '?': 1, 'piece': 1, 'him.': 1, 'Welcome,': 2, 'Horatio.': 4, 'has': 1, 'thing': 1, \"appear'd\": 2, 'again': 3, 'to-night?': 1, 'have': 3, 'seen': 2, 'nothing.': 1, 'says': 1, \"'tis\": 1, 'but': 3, 'our': 13, 'fantasy,': 1, 'will': 2, 'not': 8, 'let': 3, 'belief': 1, 'take': 2, 'hold': 1, 'him': 2, 'Touching': 1, 'dreaded': 1, 'sight,': 1, 'twice': 2, 'us.': 1, 'Therefore': 1, 'entreated': 1, 'along,': 1, 'With': 2, 'us': 3, 'watch': 2, 'minutes': 1, 'night,': 1, 'That,': 1, 'if': 1, 'apparition': 1, 'come,': 1, 'He': 2, 'may': 2, 'approve': 1, 'eyes': 1, 'speak': 3, 'it.': 1, 'Tush,': 1, 'tush,': 1, \"'twill\": 1, 'appear.': 1, 'Sit': 1, 'awhile,': 1, 'once': 2, 'assail': 1, 'ears,': 1, 'That': 4, 'are': 1, 'so': 3, 'fortified': 1, 'against': 1, 'story,': 1, 'What': 4, 'we': 2, 'nights': 1, 'seen.': 1, 'sit': 2, 'down,': 2, 'this.': 1, 'Last': 1, 'night': 3, 'all,': 1, 'When': 2, 'yond': 1, 'same': 4, 'star': 2, \"that's\": 2, 'westward': 1, 'from': 2, 'pole': 1, 'Had': 2, 'made': 1, 'course': 1, \"t'\": 1, 'illume': 1, 'that': 7, 'part': 1, 'heaven': 3, 'Where': 1, 'it': 9, 'burns,': 1, 'Marcellus': 1, 'myself,': 1, 'bell': 1, 'then': 1, 'beating': 1, 'one-': 1, 'Ghost.': 2, 'Peace!': 1, 'break': 1, 'off!': 1, 'Look': 1, 'where': 1, 'comes': 1, 'again!': 1, 'In': 4, 'figure,': 1, 'like': 5, 'dead.': 1, 'Thou': 1, 'art': 3, 'scholar;': 1, 'it,': 4, 'Looks': 1, 'King?': 2, 'Mark': 1, 'Most': 1, 'like.': 1, 'It': 3, 'harrows': 1, 'me': 2, 'with': 6, 'fear': 1, 'wonder.': 1, 'would': 1, 'be': 3, 'spoke': 1, 'to.': 1, 'Question': 1, 'thou': 2, \"usurp'st\": 1, 'time': 1, 'Together': 1, 'fair': 1, 'warlike': 1, 'form': 1, 'which': 5, 'majesty': 1, 'buried': 1, 'Denmark': 1, 'Did': 4, 'sometimes': 1, 'march?': 1, 'By': 1, 'charge': 2, 'speak!': 3, 'offended.': 1, 'See,': 1, 'stalks': 1, 'away!': 1, 'Stay!': 1, 'Speak,': 1, 'Exit': 1, 'gone': 2, 'answer.': 1, 'How': 1, 'now,': 2, 'Horatio?': 1, 'tremble': 1, 'look': 1, 'pale.': 1, 'Is': 3, 'something': 1, 'more': 1, 'than': 1, 'fantasy?': 1, \"on't?\": 1, 'Before': 1, 'God,': 1, 'might': 2, 'believe': 1, 'Without': 1, 'sensible': 1, 'true': 1, 'avouch': 1, 'Of': 3, 'mine': 1, 'own': 1, 'eyes.': 1, 'As': 4, 'thyself.': 1, 'Such': 1, 'was': 2, 'very': 1, 'armour': 1, 'he': 7, 'on': 3, \"th'\": 1, 'ambitious': 1, 'Norway': 1, 'combated.': 1, 'So': 3, \"frown'd\": 1, 'when,': 1, 'in': 7, 'an': 1, 'angry': 1, 'parle,': 1, 'smote': 1, 'sledded': 1, 'Polacks': 1, 'ice.': 1, 'strange.': 1, 'Thus': 1, 'before,': 1, 'jump': 1, 'dead': 2, 'hour,': 1, 'martial': 1, 'stalk': 1, 'by': 9, 'watch.': 1, 'what': 1, 'particular': 1, 'thought': 1, 'work': 1, 'know': 1, 'not;': 1, 'But,': 1, 'gross': 1, 'scope': 1, 'opinion,': 1, 'This': 1, 'bodes': 1, 'some': 2, 'strange': 1, 'eruption': 1, 'state.': 1, 'Good': 1, 'tell': 1, 'knows,': 1, 'Why': 2, 'strict': 1, 'observant': 1, 'nightly': 1, 'toils': 1, 'subject': 1, 'land,': 1, 'why': 1, 'such': 2, 'daily': 1, 'cast': 1, 'brazen': 1, 'cannon': 1, 'foreign': 1, 'mart': 1, 'for': 1, 'implements': 1, 'war;': 1, 'impress': 1, 'shipwrights,': 1, 'whose': 2, 'sore': 1, 'task': 1, 'Does': 1, 'divide': 1, 'Sunday': 1, 'week.': 1, 'toward,': 1, 'sweaty': 1, 'haste': 1, 'Doth': 1, 'joint-labourer': 1, 'day?': 1, \"is't\": 1, 'can': 2, 'inform': 1, 'me?': 1, 'At': 1, 'least,': 1, 'whisper': 1, 'goes': 1, 'so.': 2, 'Our': 1, 'last': 1, 'king,': 1, 'Whose': 1, 'image': 1, 'even': 2, 'us,': 2, 'Was,': 1, 'as': 1, 'know,': 1, 'Fortinbras': 1, 'Norway,': 2, 'Thereto': 1, \"prick'd\": 1, 'emulate': 1, 'pride,': 1, \"Dar'd\": 1, 'combat;': 1, 'valiant': 1, 'Hamlet': 1, '(For': 1, 'side': 1, 'known': 1, 'world': 1, \"esteem'd\": 1, 'him)': 1, 'slay': 1, 'Fortinbras;': 1, 'who,': 1, \"seal'd\": 1, 'compact,': 1, 'Well': 2, 'ratified': 1, 'law': 1, 'heraldry,': 1, 'forfeit,': 1, 'life,': 1, 'all': 1, 'those': 2, 'lands': 2, 'Which': 1, 'stood': 2, \"seiz'd\": 1, 'of,': 1, 'conqueror;': 1, 'Against': 1, 'moiety': 1, 'competent': 1, 'Was': 2, 'gaged': 1, 'king;': 1, \"return'd\": 1, 'To': 1, 'inheritance': 1, 'been': 1, 'vanquisher,': 1, 'as,': 1, 'comart': 1, 'carriage': 1, 'article': 1, \"design'd,\": 1, 'His': 1, 'fell': 1, 'Now,': 1, 'sir,': 1, 'young': 1, 'unimproved': 1, 'mettle': 1, 'hot': 1, 'full,': 1, 'Hath': 1, 'skirts': 1, 'here': 1, 'there,': 1, \"Shark'd\": 1, 'list': 1, 'lawless': 1, 'resolutes,': 1, 'food': 1, 'diet,': 1, 'enterprise': 1, 'stomach': 1, \"in't;\": 1, 'no': 2, 'other,': 1, 'doth': 1, 'well': 1, 'appear': 1, 'unto': 1, 'state,': 1, 'But': 1, 'recover': 1, 'strong': 1, 'hand': 1, 'terms': 1, 'compulsatory,': 1, 'foresaid': 1, 'father': 1, 'lost;': 1, 'this,': 1, 'main': 1, 'motive': 1, 'preparations,': 1, 'source': 1, 'chief': 1, 'head': 1, 'post-haste': 1, 'romage': 1, 'land.': 1, 'other': 1, \"e'en\": 1, 'sort': 1, 'portentous': 1, 'figure': 1, 'Comes': 1, 'armed': 1, 'through': 1, 'question': 1, 'these': 1, 'wars.': 1, 'mote': 1, 'trouble': 1, \"mind's\": 1, 'eye.': 1, 'high': 1, 'palmy': 1, 'state': 1, 'Rome,': 1, 'little': 1, 'ere': 1, 'mightiest': 1, 'Julius': 1, 'fell,': 1, 'graves': 1, 'tenantless,': 1, 'sheeted': 1, 'squeak': 1, 'gibber': 1, 'Roman': 1, 'streets;': 1, 'stars': 1, 'trains': 1, 'fire,': 1, 'dews': 1, 'blood,': 1, 'Disasters': 1, 'sun;': 1, 'moist': 1, 'Upon': 1, 'influence': 1, \"Neptune's\": 1, 'empire': 1, 'stands': 1, 'almost': 1, 'doomsday': 1, 'eclipse.': 1, 'precurse': 1, 'fierce': 1, 'events,': 1, 'harbingers': 1, 'preceding': 1, 'still': 1, 'fates': 1, 'prologue': 1, 'omen': 1, 'coming': 1, 'on,': 1, 'earth': 1, 'together': 1, 'demonstrated': 1, 'Unto': 1, 'climature': 1, 'countrymen.': 1})\n"
     ]
    }
   ],
   "source": [
    "import io\n",
    "from collections import defaultdict\n",
    "import json\n",
    "import pickle\n",
    "\n",
    "class BagOfWords():\n",
    "    def __init__(self, txt=''):\n",
    "        self._d = defaultdict(int)\n",
    "        if isinstance(txt, io.TextIOWrapper):\n",
    "            for line in txt:\n",
    "                for word in line.split():\n",
    "                    self._d[word] += 1\n",
    "        elif isinstance(txt, str):\n",
    "            # if txt.endswith('json') #do sth...\n",
    "            for word in txt.split():\n",
    "                self._d[word] += 1\n",
    "        \n",
    "        self.index = 0\n",
    "        \n",
    "    def __getitem__(self, key):\n",
    "        return self._d[key]\n",
    "    \n",
    "    def __setitem__(self, key, value):\n",
    "        self._d[key] = value\n",
    "        \n",
    "    def __str__(self):\n",
    "        return ', '.join(f\"{k}:{v}\" for k, v in self._d.items())\n",
    "    \n",
    "    def __contains__(self, key):\n",
    "        return key in self._d\n",
    "    \n",
    "    def __iter__(self):\n",
    "        return iter(sorted(self._d, key=self._d.get, reverse=False))\n",
    "    \n",
    "    def __next__(self):\n",
    "        if self.index == len(self._d):\n",
    "            raise StopIteration\n",
    "        val = list(self._d)[self.index]\n",
    "        self.index = self.index + 1\n",
    "        return val\n",
    "    \n",
    "    def __add__(self, second_bag):\n",
    "        new_bag = BagOfWords()\n",
    "        new_bag._d = self.add(self._d, second_bag._d)\n",
    "        return new_bag\n",
    "\n",
    "    def save(self, filename=\"d.json\"):\n",
    "        with open(filename, \"w\") as fp:\n",
    "            json.dump(self._d, fp)\n",
    "\n",
    "    def pickle(self, filename = 'pickle.pickle'):\n",
    "        with open(filename, 'wb') as pfile:\n",
    "            pickle.dump(self._d, pfile)\n",
    "        \n",
    "    \n",
    "    @staticmethod\n",
    "    def add(d1, d2):\n",
    "        return defaultdict(int, {**d1, **d2, **{k: d1[k] + d2[k] for k in set(d1) & set(d2)}})\n",
    "    \n",
    "obj1 = BagOfWords(open('hamletPart.txt'))\n",
    "obj2 = BagOfWords('tomek janek ala itp i')\n",
    "\n",
    "print(\"Test 1[create from file]:\")\n",
    "# print(obj1, end='\\n\\n')\n",
    "\n",
    "print(\"Test 2[create from str]:\")\n",
    "# print(obj2, end='\\n\\n')\n",
    "\n",
    "print(\"Test 3[add]:\")\n",
    "obj3 = obj1 + obj2\n",
    "# print(obj3, end='\\n\\n')\n",
    "\n",
    "print(\"Test 4[setitem and getitem]:\")\n",
    "obj3[\"tomek\"] = 15\n",
    "# print(obj3[\"tomek\"], end='\\n\\n')\n",
    "\n",
    "# print(\"Test 4[for in]:\")\n",
    "# for word in obj3:\n",
    "#     print(word)\n",
    "\n",
    "obj1.save()\n",
    "obj1.pickle()\n",
    "# TODO! objX = BagOfWords(open('d.json'))\n",
    "# print(objX) #problem\n",
    "with open('pickle.pickle', 'rb') as file:\n",
    "    objPic = pickle.load(file)\n",
    "\n",
    "print(objPic)"
   ]
  }
 ],
 "metadata": {
  "kernelspec": {
   "display_name": "Python 3.8.9 64-bit",
   "language": "python",
   "name": "python3"
  },
  "language_info": {
   "codemirror_mode": {
    "name": "ipython",
    "version": 3
   },
   "file_extension": ".py",
   "mimetype": "text/x-python",
   "name": "python",
   "nbconvert_exporter": "python",
   "pygments_lexer": "ipython3",
   "version": "3.8.9"
  },
  "vscode": {
   "interpreter": {
    "hash": "31f2aee4e71d21fbe5cf8b01ff0e069b9275f58929596ceb00d14d90e3e16cd6"
   }
  }
 },
 "nbformat": 4,
 "nbformat_minor": 2
}
