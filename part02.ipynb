{
 "cells": [
  {
   "cell_type": "markdown",
   "metadata": {
    "slideshow": {
     "slide_type": "slide"
    }
   },
   "source": [
    "# Efektywne programowanie w języku Python \n",
    "\n",
    "## wykład 2"
   ]
  },
  {
   "cell_type": "code",
   "execution_count": null,
   "metadata": {},
   "outputs": [],
   "source": []
  },
  {
   "cell_type": "markdown",
   "metadata": {
    "slideshow": {
     "slide_type": "slide"
    }
   },
   "source": [
    "## Do you know that?"
   ]
  },
  {
   "cell_type": "markdown",
   "metadata": {
    "slideshow": {
     "slide_type": "subslide"
    }
   },
   "source": [
    "### Explicit line joining"
   ]
  },
  {
   "cell_type": "code",
   "execution_count": 2,
   "metadata": {
    "slideshow": {
     "slide_type": "fragment"
    }
   },
   "outputs": [],
   "source": [
    "year, month, day, hour, minute, second = 1299, 12, 13, 13, 13, 13\n",
    "if 1900 < year < 2100 and 1 <= month <= 12 \\\n",
    "   and 1 <= day <= 31 and 0 <= hour < 24 \\\n",
    "   and 0 <= minute < 60 and 0 <= second < 60:   # Looks like a valid date\n",
    "   print(1)"
   ]
  },
  {
   "cell_type": "markdown",
   "metadata": {
    "slideshow": {
     "slide_type": "fragment"
    }
   },
   "source": [
    "Two or more physical lines may be joined into logical lines using backslash characters (\\), as follows: when a physical line ends in a backslash that is not part of a string literal or comment, it is joined with the following forming a single logical line, deleting the backslash and the following end-of-line character."
   ]
  },
  {
   "cell_type": "markdown",
   "metadata": {
    "slideshow": {
     "slide_type": "subslide"
    }
   },
   "source": [
    "###  String literal concatenation"
   ]
  },
  {
   "cell_type": "code",
   "execution_count": null,
   "metadata": {
    "slideshow": {
     "slide_type": "fragment"
    }
   },
   "outputs": [],
   "source": [
    "re.compile(\"[A-Za-z_]\"       # letter or underscore\n",
    "           \"[A-Za-z0-9_]*\"   # letter, digit or underscore\n",
    "          )"
   ]
  },
  {
   "cell_type": "markdown",
   "metadata": {
    "slideshow": {
     "slide_type": "fragment"
    }
   },
   "source": [
    "Multiple adjacent string or bytes literals (delimited by whitespace), possibly using different quoting conventions, are allowed, and their meaning is the same as their concatenation. Thus, \"hello\" 'world' is equivalent to \"helloworld\"."
   ]
  },
  {
   "cell_type": "markdown",
   "metadata": {
    "slideshow": {
     "slide_type": "fragment"
    }
   },
   "source": [
    "Note that this feature is defined at the syntactical level, but implemented at compile time. The ‘+’ operator must be used to concatenate string expressions at run time."
   ]
  },
  {
   "cell_type": "markdown",
   "metadata": {
    "slideshow": {
     "slide_type": "subslide"
    }
   },
   "source": [
    "### We can use semicolons!!!"
   ]
  },
  {
   "cell_type": "code",
   "execution_count": 7,
   "metadata": {
    "slideshow": {
     "slide_type": "fragment"
    }
   },
   "outputs": [],
   "source": [
    "x, y, z = 3, 7, 8"
   ]
  },
  {
   "cell_type": "code",
   "execution_count": 8,
   "metadata": {
    "slideshow": {
     "slide_type": "fragment"
    }
   },
   "outputs": [
    {
     "name": "stdout",
     "output_type": "stream",
     "text": [
      "3\n",
      "7\n",
      "8\n"
     ]
    }
   ],
   "source": [
    "if x < y < z: print(x); print(y); print(z)"
   ]
  },
  {
   "cell_type": "markdown",
   "metadata": {
    "slideshow": {
     "slide_type": "slide"
    }
   },
   "source": [
    "## What is truth?"
   ]
  },
  {
   "cell_type": "code",
   "execution_count": 14,
   "metadata": {
    "slideshow": {
     "slide_type": "fragment"
    }
   },
   "outputs": [
    {
     "data": {
      "text/plain": [
       "False"
      ]
     },
     "execution_count": 14,
     "metadata": {},
     "output_type": "execute_result"
    }
   ],
   "source": [
    "# 'Falsy'\n",
    "bool(None)\n",
    "bool(False)\n",
    "bool(0)\n",
    "bool(0.0)\n",
    "bool('')"
   ]
  },
  {
   "cell_type": "code",
   "execution_count": 15,
   "metadata": {
    "slideshow": {
     "slide_type": "subslide"
    }
   },
   "outputs": [
    {
     "data": {
      "text/plain": [
       "False"
      ]
     },
     "execution_count": 15,
     "metadata": {},
     "output_type": "execute_result"
    }
   ],
   "source": [
    "# Empty data structures are 'falsy'\n",
    "bool([]) # => False"
   ]
  },
  {
   "cell_type": "code",
   "execution_count": 16,
   "metadata": {
    "slideshow": {
     "slide_type": "fragment"
    }
   },
   "outputs": [
    {
     "name": "stdout",
     "output_type": "stream",
     "text": [
      "There's no data!\n"
     ]
    }
   ],
   "source": [
    "# How should we check for an empty list?\n",
    "data = []\n",
    "if data:\n",
    "    process(data)\n",
    "else:\n",
    "    print(\"There's no data!\")"
   ]
  },
  {
   "cell_type": "markdown",
   "metadata": {
    "slideshow": {
     "slide_type": "fragment"
    }
   },
   "source": [
    "> goto opt02 :) part 1"
   ]
  },
  {
   "cell_type": "code",
   "execution_count": 19,
   "metadata": {
    "slideshow": {
     "slide_type": "subslide"
    }
   },
   "outputs": [],
   "source": [
    "#You should not use \n",
    "expr = True\n",
    "if expr == True:\n",
    "    pass\n",
    "\n",
    "# or\n",
    "if len(data) == 0:\n",
    "    pass"
   ]
  },
  {
   "cell_type": "markdown",
   "metadata": {
    "slideshow": {
     "slide_type": "slide"
    }
   },
   "source": [
    "## Range"
   ]
  },
  {
   "cell_type": "code",
   "execution_count": 3,
   "metadata": {
    "slideshow": {
     "slide_type": "fragment"
    }
   },
   "outputs": [
    {
     "data": {
      "text/plain": [
       "range(-7, -30, -5)"
      ]
     },
     "execution_count": 3,
     "metadata": {},
     "output_type": "execute_result"
    }
   ],
   "source": [
    "range(3)\n",
    "# generates 0, 1, 2\n",
    "\n",
    "range(5, 10)\n",
    "# generates 5, 6, 7, 8, 9\n",
    "\n",
    "range(2, 12, 3)\n",
    "# generates 2, 5, 8, 11\n",
    "\n",
    "range(-7, -30, -5)\n",
    "# generates -7, -12, -17, -22, -27"
   ]
  },
  {
   "cell_type": "code",
   "execution_count": 1,
   "metadata": {
    "slideshow": {
     "slide_type": "subslide"
    }
   },
   "outputs": [
    {
     "name": "stdout",
     "output_type": "stream",
     "text": [
      "<class 'range'>\n",
      "range(0, 10)\n"
     ]
    }
   ],
   "source": [
    "v = range(10)\n",
    "print(type(v))\n",
    "print(v)"
   ]
  },
  {
   "cell_type": "markdown",
   "metadata": {
    "slideshow": {
     "slide_type": "fragment"
    }
   },
   "source": [
    "co tutaj dostaniemy?"
   ]
  },
  {
   "cell_type": "code",
   "execution_count": 2,
   "metadata": {
    "slideshow": {
     "slide_type": "fragment"
    }
   },
   "outputs": [
    {
     "name": "stdout",
     "output_type": "stream",
     "text": [
      "Help on class range in module builtins:\n",
      "\n",
      "class range(object)\n",
      " |  range(stop) -> range object\n",
      " |  range(start, stop[, step]) -> range object\n",
      " |  \n",
      " |  Return an object that produces a sequence of integers from start (inclusive)\n",
      " |  to stop (exclusive) by step.  range(i, j) produces i, i+1, i+2, ..., j-1.\n",
      " |  start defaults to 0, and stop is omitted!  range(4) produces 0, 1, 2, 3.\n",
      " |  These are exactly the valid indices for a list of 4 elements.\n",
      " |  When step is given, it specifies the increment (or decrement).\n",
      " |  \n",
      " |  Methods defined here:\n",
      " |  \n",
      " |  __bool__(self, /)\n",
      " |      self != 0\n",
      " |  \n",
      " |  __contains__(self, key, /)\n",
      " |      Return key in self.\n",
      " |  \n",
      " |  __eq__(self, value, /)\n",
      " |      Return self==value.\n",
      " |  \n",
      " |  __ge__(self, value, /)\n",
      " |      Return self>=value.\n",
      " |  \n",
      " |  __getattribute__(self, name, /)\n",
      " |      Return getattr(self, name).\n",
      " |  \n",
      " |  __getitem__(self, key, /)\n",
      " |      Return self[key].\n",
      " |  \n",
      " |  __gt__(self, value, /)\n",
      " |      Return self>value.\n",
      " |  \n",
      " |  __hash__(self, /)\n",
      " |      Return hash(self).\n",
      " |  \n",
      " |  __iter__(self, /)\n",
      " |      Implement iter(self).\n",
      " |  \n",
      " |  __le__(self, value, /)\n",
      " |      Return self<=value.\n",
      " |  \n",
      " |  __len__(self, /)\n",
      " |      Return len(self).\n",
      " |  \n",
      " |  __lt__(self, value, /)\n",
      " |      Return self<value.\n",
      " |  \n",
      " |  __ne__(self, value, /)\n",
      " |      Return self!=value.\n",
      " |  \n",
      " |  __new__(*args, **kwargs) from builtins.type\n",
      " |      Create and return a new object.  See help(type) for accurate signature.\n",
      " |  \n",
      " |  __reduce__(...)\n",
      " |      helper for pickle\n",
      " |  \n",
      " |  __repr__(self, /)\n",
      " |      Return repr(self).\n",
      " |  \n",
      " |  __reversed__(...)\n",
      " |      Return a reverse iterator.\n",
      " |  \n",
      " |  count(...)\n",
      " |      rangeobject.count(value) -> integer -- return number of occurrences of value\n",
      " |  \n",
      " |  index(...)\n",
      " |      rangeobject.index(value, [start, [stop]]) -> integer -- return index of value.\n",
      " |      Raise ValueError if the value is not present.\n",
      " |  \n",
      " |  ----------------------------------------------------------------------\n",
      " |  Data descriptors defined here:\n",
      " |  \n",
      " |  start\n",
      " |  \n",
      " |  step\n",
      " |  \n",
      " |  stop\n",
      "\n"
     ]
    }
   ],
   "source": [
    "help(range)"
   ]
  },
  {
   "cell_type": "markdown",
   "metadata": {
    "collapsed": true,
    "slideshow": {
     "slide_type": "slide"
    }
   },
   "source": [
    "## Data structures"
   ]
  },
  {
   "cell_type": "markdown",
   "metadata": {
    "slideshow": {
     "slide_type": "slide"
    }
   },
   "source": [
    "### 1. Lists"
   ]
  },
  {
   "cell_type": "markdown",
   "metadata": {
    "slideshow": {
     "slide_type": "fragment"
    }
   },
   "source": [
    "> Finite, ordered, mutable sequence of elements"
   ]
  },
  {
   "cell_type": "code",
   "execution_count": 5,
   "metadata": {
    "slideshow": {
     "slide_type": "fragment"
    }
   },
   "outputs": [],
   "source": [
    "simple_list = [1, 2, 3]"
   ]
  },
  {
   "cell_type": "code",
   "execution_count": 6,
   "metadata": {
    "slideshow": {
     "slide_type": "subslide"
    }
   },
   "outputs": [],
   "source": [
    "# Create a new list\n",
    "empty = []\n",
    "empty2 = list()\n",
    "letters = ['a', 'b', 'c', 'd']\n",
    "numbers = [2, 3, 5]"
   ]
  },
  {
   "cell_type": "code",
   "execution_count": 7,
   "metadata": {
    "slideshow": {
     "slide_type": "fragment"
    }
   },
   "outputs": [],
   "source": [
    "# Lists can contain elements of different types\n",
    "mixed = [4, 5, \"seconds\"]"
   ]
  },
  {
   "cell_type": "code",
   "execution_count": 8,
   "metadata": {
    "slideshow": {
     "slide_type": "fragment"
    }
   },
   "outputs": [],
   "source": [
    "# Append elements to the end of a list\n",
    "numbers.append(7) # numbers == [2, 3, 5, 7]\n",
    "numbers.append(11) # numbers == [2, 3, 5, 7, 11]"
   ]
  },
  {
   "cell_type": "code",
   "execution_count": 9,
   "metadata": {
    "slideshow": {
     "slide_type": "fragment"
    }
   },
   "outputs": [
    {
     "data": {
      "text/plain": [
       "11"
      ]
     },
     "execution_count": 9,
     "metadata": {},
     "output_type": "execute_result"
    }
   ],
   "source": [
    "# Access elements at a particular index\n",
    "numbers[0] # => 2\n",
    "numbers[-1] # => 11"
   ]
  },
  {
   "cell_type": "code",
   "execution_count": 10,
   "metadata": {
    "slideshow": {
     "slide_type": "fragment"
    }
   },
   "outputs": [
    {
     "data": {
      "text/plain": [
       "[3, 5, 7]"
      ]
     },
     "execution_count": 10,
     "metadata": {},
     "output_type": "execute_result"
    }
   ],
   "source": [
    "# You can also slice lists - the usual rules apply\n",
    "letters[:3] # => ['a', 'b', 'c']\n",
    "numbers[1:-1] # => [3, 5, 7]"
   ]
  },
  {
   "cell_type": "code",
   "execution_count": 13,
   "metadata": {
    "slideshow": {
     "slide_type": "subslide"
    }
   },
   "outputs": [
    {
     "data": {
      "text/plain": [
       "['a', 'b', 'c', 'd', [2, 3, 5, 7, 11]]"
      ]
     },
     "execution_count": 13,
     "metadata": {},
     "output_type": "execute_result"
    }
   ],
   "source": [
    "# Nested lists\n",
    "#\n",
    "# Lists really can contain anything - even other lists!\n",
    "x = [*letters, numbers]\n",
    "x # => ['a', 'b', 'c', 'd', [2, 3, 5, 7, 11]]\n",
    "x[0] # => ['a', 'b', 'c', 'd']\n",
    "x[0][1] # => 'b'\n",
    "x[1][2:] # => [5, 7, 11]"
   ]
  },
  {
   "cell_type": "markdown",
   "metadata": {
    "slideshow": {
     "slide_type": "subslide"
    }
   },
   "source": [
    "Methods reference"
   ]
  },
  {
   "cell_type": "code",
   "execution_count": null,
   "metadata": {
    "slideshow": {
     "slide_type": "subslide"
    }
   },
   "outputs": [],
   "source": [
    "# Extend list by appending elements from the iterable\n",
    "my_list.extend(iterable)\n",
    "# Insert object before index\n",
    "my_list.insert(index, object)\n",
    "# Remove first occurrence of value, or raise ValueError\n",
    "my_list.remove(value)\n",
    "# Remove all items\n",
    "my_list.clear()"
   ]
  },
  {
   "cell_type": "code",
   "execution_count": null,
   "metadata": {
    "slideshow": {
     "slide_type": "subslide"
    }
   },
   "outputs": [],
   "source": [
    "# Return number of occurrences of value\n",
    "my_list.count(value)\n",
    "# Return first index of value, or raise ValueError\n",
    "my_list.index(value, [start, [stop]])\n",
    "# Remove, return item at index (def. last) or IndexError\n",
    "my_list.pop([index])\n",
    "# Stable sort *in place*\n",
    "my_list.sort(key=None, reverse=False)\n",
    "# Reverse *in place*.\n",
    "my_list.reverse()"
   ]
  },
  {
   "cell_type": "code",
   "execution_count": null,
   "metadata": {
    "slideshow": {
     "slide_type": "subslide"
    }
   },
   "outputs": [],
   "source": [
    "# Length (len)\n",
    "len([]) # => 0\n",
    "len(\"python\") # => 6\n",
    "len([4,5,\"seconds\"]) # => 3"
   ]
  },
  {
   "cell_type": "code",
   "execution_count": null,
   "metadata": {
    "slideshow": {
     "slide_type": "fragment"
    }
   },
   "outputs": [],
   "source": [
    "# Membership (in)\n",
    "0 in [] # => False\n",
    "'y' in 'python' # => True\n",
    "'minutes' in [4, 5, 'seconds'] # => False"
   ]
  },
  {
   "cell_type": "markdown",
   "metadata": {
    "slideshow": {
     "slide_type": "slide"
    }
   },
   "source": [
    "### 2. Dictionary"
   ]
  },
  {
   "cell_type": "markdown",
   "metadata": {
    "slideshow": {
     "slide_type": "fragment"
    }
   },
   "source": [
    "> Mutable map from hashable values to arbitrary objects"
   ]
  },
  {
   "cell_type": "markdown",
   "metadata": {
    "slideshow": {
     "slide_type": "fragment"
    }
   },
   "source": [
    "Keys can be a variety of types, as long as they are hashable. Values can be a variety of types too."
   ]
  },
  {
   "cell_type": "code",
   "execution_count": 6,
   "metadata": {
    "slideshow": {
     "slide_type": "subslide"
    }
   },
   "outputs": [
    {
     "data": {
      "text/plain": [
       "True"
      ]
     },
     "execution_count": 6,
     "metadata": {},
     "output_type": "execute_result"
    }
   ],
   "source": [
    "empty = {}\n",
    "type(empty) # => dict\n",
    "empty == dict() # => True"
   ]
  },
  {
   "cell_type": "code",
   "execution_count": 9,
   "metadata": {
    "slideshow": {
     "slide_type": "fragment"
    }
   },
   "outputs": [
    {
     "data": {
      "text/plain": [
       "True"
      ]
     },
     "execution_count": 9,
     "metadata": {},
     "output_type": "execute_result"
    }
   ],
   "source": [
    "a = dict(one=1, two=2, three=3)\n",
    "b = {\"one\": 1, \"two\": 2, \"three\": 3}\n",
    "a == b # => True"
   ]
  },
  {
   "cell_type": "code",
   "execution_count": 14,
   "metadata": {
    "slideshow": {
     "slide_type": "subslide"
    }
   },
   "outputs": [
    {
     "ename": "KeyError",
     "evalue": "'five'",
     "output_type": "error",
     "traceback": [
      "\u001b[0;31m---------------------------------------------------------------------------\u001b[0m",
      "\u001b[0;31mKeyError\u001b[0m                                  Traceback (most recent call last)",
      "\u001b[0;32m/var/folders/fc/hf24rcz55cv3vj2_ny6pb4y00000gn/T/ipykernel_7069/3559056985.py\u001b[0m in \u001b[0;36m<module>\u001b[0;34m\u001b[0m\n\u001b[1;32m      3\u001b[0m \u001b[0;31m# Get\u001b[0m\u001b[0;34m\u001b[0m\u001b[0;34m\u001b[0m\u001b[0;34m\u001b[0m\u001b[0m\n\u001b[1;32m      4\u001b[0m \u001b[0md\u001b[0m\u001b[0;34m[\u001b[0m\u001b[0;34m'one'\u001b[0m\u001b[0;34m]\u001b[0m \u001b[0;31m# => 1\u001b[0m\u001b[0;34m\u001b[0m\u001b[0;34m\u001b[0m\u001b[0m\n\u001b[0;32m----> 5\u001b[0;31m \u001b[0md\u001b[0m\u001b[0;34m[\u001b[0m\u001b[0;34m'five'\u001b[0m\u001b[0;34m]\u001b[0m \u001b[0;31m# raises KeyError\u001b[0m\u001b[0;34m\u001b[0m\u001b[0;34m\u001b[0m\u001b[0m\n\u001b[0m\u001b[1;32m      6\u001b[0m \u001b[0;34m\u001b[0m\u001b[0m\n\u001b[1;32m      7\u001b[0m \u001b[0;31m# Set\u001b[0m\u001b[0;34m\u001b[0m\u001b[0;34m\u001b[0m\u001b[0;34m\u001b[0m\u001b[0m\n",
      "\u001b[0;31mKeyError\u001b[0m: 'five'"
     ]
    }
   ],
   "source": [
    "d = {\"one\": 1, \"two\": 2, \"three\": 3}\n",
    "\n",
    "# Get\n",
    "d['one'] # => 1\n",
    "d['five'] # raises KeyError\n",
    "\n",
    "# Set\n",
    "d['two'] = 22 # Modify an existing key\n",
    "d['four'] = 4 # Add a new key"
   ]
  },
  {
   "cell_type": "code",
   "execution_count": 16,
   "metadata": {
    "slideshow": {
     "slide_type": "subslide"
    }
   },
   "outputs": [
    {
     "data": {
      "text/plain": [
       "0"
      ]
     },
     "execution_count": 16,
     "metadata": {},
     "output_type": "execute_result"
    }
   ],
   "source": [
    "d = {\"CS\":[106, 107, 110], \"MATH\": [51, 113]}\n",
    "\n",
    "# d[\"COMPSCI\"] # raises KeyError\n",
    "\n",
    "# Use get() method to avoid the KeyError\n",
    "d.get(\"CS\") # => [106, 107, 110]\n",
    "d.get(\"PHIL\") # => None (not a KeyError!)\n",
    "\n",
    "english_classes = d.get(\"ENGLISH\", [])\n",
    "num_english = len(english_classes)\n",
    "num_english"
   ]
  },
  {
   "cell_type": "code",
   "execution_count": 17,
   "metadata": {
    "slideshow": {
     "slide_type": "subslide"
    }
   },
   "outputs": [
    {
     "name": "stdout",
     "output_type": "stream",
     "text": [
      "{}\n"
     ]
    }
   ],
   "source": [
    "d = {\"one\": 1, \"two\": 2, \"three\": 3}\n",
    "\n",
    "#Raises KeyError if invalid key\n",
    "del d[\"one\"]\n",
    "\n",
    "#Remove and return d['three'] or default value if not in the map\n",
    "d.pop(\"three\", 3) # => 3\n",
    "\n",
    "# Remove and return an arbitrary (key, value) pair. Useful for destructive iteration\n",
    "d.popitem() # => (\"two\", 2)\n",
    "print(d)"
   ]
  },
  {
   "cell_type": "code",
   "execution_count": 18,
   "metadata": {
    "slideshow": {
     "slide_type": "subslide"
    }
   },
   "outputs": [
    {
     "data": {
      "text/plain": [
       "True"
      ]
     },
     "execution_count": 18,
     "metadata": {},
     "output_type": "execute_result"
    }
   ],
   "source": [
    "d = {\"one\": 1, \"two\": 2, \"three\": 3}\n",
    "\n",
    "# These dictionary views are dynamic, reflecting changes in the underlying dictionary!\n",
    "d.keys()\n",
    "d.values()\n",
    "d.items()\n",
    "\n",
    "('one', 1) in d.items()"
   ]
  },
  {
   "cell_type": "code",
   "execution_count": 40,
   "metadata": {
    "slideshow": {
     "slide_type": "subslide"
    }
   },
   "outputs": [
    {
     "name": "stdout",
     "output_type": "stream",
     "text": [
      "one\n",
      "two\n",
      "three\n",
      "one :  1\n",
      "two :  2\n",
      "three :  3\n"
     ]
    }
   ],
   "source": [
    "len(d)\n",
    "\n",
    "# key in d # equiv. to `key in d.keys()`\n",
    "\n",
    "# value in d.values()\n",
    "\n",
    "d.copy()\n",
    "# d.clear()\n",
    "\n",
    "for key in d: # equiv. to `for key in d.keys():`\n",
    "    print(key)\n",
    "    \n",
    "    \n",
    "for k, v in d.items():\n",
    "    print(k, ': ', v)"
   ]
  },
  {
   "cell_type": "markdown",
   "metadata": {
    "collapsed": true,
    "slideshow": {
     "slide_type": "slide"
    }
   },
   "source": [
    "### 3. Tuples"
   ]
  },
  {
   "cell_type": "markdown",
   "metadata": {
    "slideshow": {
     "slide_type": "fragment"
    }
   },
   "source": [
    "> Immutable Sequences\n",
    ">\n",
    "> To:\n",
    "> 1. Store collections of heterogeneous data\n",
    "> 2. \"Freeze\" sequence to ensure hashability\n",
    "> 3. Enforce immutability for fixed-size collections"
   ]
  },
  {
   "cell_type": "code",
   "execution_count": 29,
   "metadata": {
    "slideshow": {
     "slide_type": "subslide"
    }
   },
   "outputs": [
    {
     "ename": "TypeError",
     "evalue": "'tuple' object does not support item assignment",
     "output_type": "error",
     "traceback": [
      "\u001b[0;31m---------------------------------------------------------------------------\u001b[0m",
      "\u001b[0;31mTypeError\u001b[0m                                 Traceback (most recent call last)",
      "Cell \u001b[0;32mIn [29], line 3\u001b[0m\n\u001b[1;32m      1\u001b[0m fish \u001b[39m=\u001b[39m (\u001b[39m1\u001b[39m, \u001b[39m2\u001b[39m, \u001b[39m\"\u001b[39m\u001b[39mred\u001b[39m\u001b[39m\"\u001b[39m, \u001b[39m\"\u001b[39m\u001b[39mblue\u001b[39m\u001b[39m\"\u001b[39m)\n\u001b[1;32m      2\u001b[0m fish[\u001b[39m0\u001b[39m] \u001b[39m# => 1\u001b[39;00m\n\u001b[0;32m----> 3\u001b[0m fish[\u001b[39m0\u001b[39;49m] \u001b[39m=\u001b[39m \u001b[39m7\u001b[39m\n",
      "\u001b[0;31mTypeError\u001b[0m: 'tuple' object does not support item assignment"
     ]
    }
   ],
   "source": [
    "fish = (1, 2, \"red\", \"blue\")\n",
    "fish[0] # => 1\n",
    "fish[0] = 7 # Raises a TypeError"
   ]
  },
  {
   "cell_type": "code",
   "execution_count": null,
   "metadata": {
    "slideshow": {
     "slide_type": "fragment"
    }
   },
   "outputs": [],
   "source": [
    "len(fish) # => 4\n",
    "fish[:2] # => (1, 2)\n",
    "\"red\" in fish # => True"
   ]
  },
  {
   "cell_type": "markdown",
   "metadata": {
    "slideshow": {
     "slide_type": "subslide"
    }
   },
   "source": [
    "#### Argument Packing and Unpacking"
   ]
  },
  {
   "cell_type": "code",
   "execution_count": null,
   "metadata": {
    "slideshow": {
     "slide_type": "fragment"
    }
   },
   "outputs": [],
   "source": [
    "# Comma-separated Rvalues are converted to a tuple\n",
    "t = 12345, 54321, 'hello!'\n",
    "print(t) # (12345, 54321, 'hello!')\n",
    "type(t) # => tuple"
   ]
  },
  {
   "cell_type": "code",
   "execution_count": null,
   "metadata": {
    "slideshow": {
     "slide_type": "fragment"
    }
   },
   "outputs": [],
   "source": [
    "# Comma-separated Lvalues are unpacked automatically\n",
    "x, y, z = t\n",
    "x # => 12345\n",
    "y # => 54321\n",
    "z # => 'hello!'"
   ]
  },
  {
   "cell_type": "code",
   "execution_count": null,
   "metadata": {
    "slideshow": {
     "slide_type": "subslide"
    }
   },
   "outputs": [],
   "source": [
    "for index, color in enumerate(['red','green','blue']):\n",
    "    print(index, color)\n",
    "    \n",
    "# =>\n",
    "# 0 red\n",
    "# 1 green\n",
    "# 2 blue\n",
    "\n",
    "# SOOOOoooooo:\n",
    "#This also means you should almost never use\n",
    "for i in range(len(sequence)):\n",
    "    pass"
   ]
  },
  {
   "cell_type": "markdown",
   "metadata": {
    "slideshow": {
     "slide_type": "subslide"
    }
   },
   "source": [
    "> Tuples contain (immutable) references to underlying objects!"
   ]
  },
  {
   "cell_type": "code",
   "execution_count": null,
   "metadata": {
    "slideshow": {
     "slide_type": "fragment"
    }
   },
   "outputs": [],
   "source": [
    "v = ([1, 2, 3], ['a', 'b', 'c'])\n",
    "v[0].append(4)\n",
    "v # => ([1, 2, 3, 4], ['a', 'b', 'c'])"
   ]
  },
  {
   "cell_type": "markdown",
   "metadata": {
    "slideshow": {
     "slide_type": "subslide"
    }
   },
   "source": [
    "A special problem is the construction of tuples containing 0 or 1 items: the syntax has some extra quirks to accommodate these. Empty tuples are constructed by an empty pair of parentheses; a tuple with one item is constructed by following a value with a comma (it is not sufficient to enclose a single value in parentheses). Ugly, but effective. For example:"
   ]
  },
  {
   "cell_type": "code",
   "execution_count": 12,
   "metadata": {},
   "outputs": [
    {
     "name": "stdout",
     "output_type": "stream",
     "text": [
      "ww 2 <class 'str'>\n"
     ]
    }
   ],
   "source": [
    "r = \"ww\", \n",
    "print(r, len(r), type(r))"
   ]
  },
  {
   "cell_type": "code",
   "execution_count": null,
   "metadata": {
    "slideshow": {
     "slide_type": "fragment"
    }
   },
   "outputs": [],
   "source": [
    ">>> empty = ()\n",
    ">>> singleton = 'hello',    # <-- note trailing comma\n",
    ">>> len(empty)\n",
    "0\n",
    ">>> len(singleton)\n",
    "1\n",
    ">>> singleton\n",
    "('hello',)"
   ]
  },
  {
   "cell_type": "markdown",
   "metadata": {
    "slideshow": {
     "slide_type": "slide"
    }
   },
   "source": [
    "### 4. Sets"
   ]
  },
  {
   "cell_type": "markdown",
   "metadata": {
    "slideshow": {
     "slide_type": "fragment"
    }
   },
   "source": [
    "> Unordered collection of distinct hashable elements\n",
    ">\n",
    "> To:\n",
    "> 1. Fast membership testing: O(1) vs. O(n)\n",
    "> 2. Eliminate duplicate entries\n",
    "> 3. Easy set operations (intersection, union, etc.)"
   ]
  },
  {
   "cell_type": "code",
   "execution_count": 6,
   "metadata": {
    "slideshow": {
     "slide_type": "fragment"
    }
   },
   "outputs": [],
   "source": [
    "s = {1, 2, 3}"
   ]
  },
  {
   "cell_type": "code",
   "execution_count": null,
   "metadata": {
    "slideshow": {
     "slide_type": "subslide"
    }
   },
   "outputs": [],
   "source": [
    "empty_set = set()\n",
    "set_from_list = set([1, 2, 1, 4, 3]) # => {1, 3, 4, 2}\n",
    "\n",
    "basket = {\"apple\", \"orange\", \"apple\", \"pear\", \"banana\"}\n",
    "len(basket) # => 4\n",
    "\n",
    "\"orange\" in basket # => True\n",
    "\"crabgrass\" in basket # => False\n",
    "\n",
    "for fruit in basket:\n",
    "    print(fruit, end='/')\n",
    "# => pear/banana/apple/orange/"
   ]
  },
  {
   "cell_type": "code",
   "execution_count": null,
   "metadata": {
    "slideshow": {
     "slide_type": "subslide"
    }
   },
   "outputs": [],
   "source": [
    "a = set(\"mississippi\") # {'i', 'm', 'p', 's'}\n",
    "\n",
    "a.add('r')\n",
    "a.remove('m') # raises KeyError if 'm' is not present\n",
    "a.discard('x') # same as remove, except no error\n",
    "\n",
    "a.pop() # => 's' (or 'i' or 'p')\n",
    "\n",
    "a.clear()\n",
    "\n",
    "len(a) # => 0"
   ]
  },
  {
   "cell_type": "code",
   "execution_count": null,
   "metadata": {
    "slideshow": {
     "slide_type": "subslide"
    }
   },
   "outputs": [],
   "source": [
    "a = set(\"abracadabra\") # {'a', 'r', 'b', 'c', 'd'}\n",
    "b = set(\"alacazam\") # {'a', 'm', 'c', 'l', 'z'}\n",
    "\n",
    "# Set difference\n",
    "a - b # => {'r', 'd', 'b'}\n",
    "\n",
    "# Union\n",
    "a | b # => {'a', 'c', 'r', 'd', 'b', 'm', 'z', 'l'}\n",
    "\n",
    "# Intersection\n",
    "a & b # => {'a', 'c'}\n",
    "\n",
    "# Symmetric Difference\n",
    "a ^ b # => {'r', 'd', 'b', 'm', 'z', 'l'}"
   ]
  },
  {
   "cell_type": "markdown",
   "metadata": {
    "slideshow": {
     "slide_type": "subslide"
    }
   },
   "source": [
    "> goto opt02 :) part 2"
   ]
  },
  {
   "cell_type": "markdown",
   "metadata": {
    "slideshow": {
     "slide_type": "slide"
    }
   },
   "source": [
    "### Loops"
   ]
  },
  {
   "cell_type": "markdown",
   "metadata": {
    "slideshow": {
     "slide_type": "subslide"
    }
   },
   "source": [
    "#### Items in Dictionary"
   ]
  },
  {
   "cell_type": "code",
   "execution_count": null,
   "metadata": {
    "slideshow": {
     "slide_type": "fragment"
    }
   },
   "outputs": [],
   "source": [
    "knights = {'gallahad': 'the pure', 'robin': 'the brave'}\n",
    "\n",
    "for k, v in knights.items():\n",
    "    print(k, v)\n",
    "\n",
    "# =>\n",
    "# gallahad the pure\n",
    "# robin the brave"
   ]
  },
  {
   "cell_type": "markdown",
   "metadata": {
    "slideshow": {
     "slide_type": "subslide"
    }
   },
   "source": [
    "#### zip"
   ]
  },
  {
   "cell_type": "code",
   "execution_count": 33,
   "metadata": {
    "slideshow": {
     "slide_type": "fragment"
    }
   },
   "outputs": [
    {
     "name": "stdout",
     "output_type": "stream",
     "text": [
      "What is your name? Lancelot.\n",
      "What is your quest? To seek the holy grail.\n",
      "What is your favorite color? Blue.\n"
     ]
    }
   ],
   "source": [
    "questions = ['name', 'quest', 'favorite color', 'BAD']\n",
    "answers = ['Lancelot', 'To seek the holy grail', 'Blue']\n",
    "\n",
    "for q, a in zip(questions, answers):\n",
    "    print('What is your {0}? {1}.'.format(q, a))\n",
    "\n",
    "# =>\n",
    "# What is your name? Lancelot.\n",
    "# What is your quest? To seek the holy grail.\n",
    "# What is your favorite color? Blue."
   ]
  },
  {
   "cell_type": "markdown",
   "metadata": {
    "slideshow": {
     "slide_type": "fragment"
    }
   },
   "source": [
    "The zip() function generates pairs of entries from its arguments."
   ]
  },
  {
   "cell_type": "code",
   "execution_count": 12,
   "metadata": {},
   "outputs": [
    {
     "name": "stdout",
     "output_type": "stream",
     "text": [
      "('Aston', 'Audi', 'McLaren')\n",
      "('GPS', 'Car Repair', 'Dolby sound kit')\n"
     ]
    }
   ],
   "source": [
    "# Unzip lists \n",
    "l1,l2 = zip(*[('Aston', 'GPS'),  \n",
    "              ('Audi', 'Car Repair'),  \n",
    "              ('McLaren', 'Dolby sound kit')  \n",
    "           ]) \n",
    "# Printing unzipped lists       \n",
    "print(l1) \n",
    "print(l2) "
   ]
  },
  {
   "cell_type": "markdown",
   "metadata": {
    "slideshow": {
     "slide_type": "subslide"
    }
   },
   "source": [
    "#### Reverse Iteration"
   ]
  },
  {
   "cell_type": "code",
   "execution_count": null,
   "metadata": {
    "slideshow": {
     "slide_type": "fragment"
    }
   },
   "outputs": [],
   "source": [
    "for i in reversed(range(1, 10, 2)):\n",
    "    print(i, end=', ')\n",
    "# =>\n",
    "# 9, 7, 5, 3, 1,"
   ]
  },
  {
   "cell_type": "markdown",
   "metadata": {
    "slideshow": {
     "slide_type": "subslide"
    }
   },
   "source": [
    "#### Sorted Iteration"
   ]
  },
  {
   "cell_type": "code",
   "execution_count": 13,
   "metadata": {
    "slideshow": {
     "slide_type": "fragment"
    }
   },
   "outputs": [
    {
     "name": "stdout",
     "output_type": "stream",
     "text": [
      "apple\n",
      "banana\n",
      "orange\n",
      "pear\n",
      "pear\n"
     ]
    }
   ],
   "source": [
    "basket = ['pear', 'banana', 'orange', 'pear', 'apple']\n",
    "\n",
    "for fruit in sorted(basket):\n",
    "    print(fruit)\n",
    "\n",
    "# =>\n",
    "# apple\n",
    "# banana\n",
    "# orange\n",
    "# pear\n",
    "# pear"
   ]
  },
  {
   "cell_type": "markdown",
   "metadata": {
    "slideshow": {
     "slide_type": "fragment"
    }
   },
   "source": [
    "To loop over a sequence in sorted order, use the sorted() function which returns a new sorted list while leaving the source unaltered."
   ]
  },
  {
   "cell_type": "markdown",
   "metadata": {
    "slideshow": {
     "slide_type": "slide"
    }
   },
   "source": [
    "### Comprehensions"
   ]
  },
  {
   "cell_type": "markdown",
   "metadata": {
    "slideshow": {
     "slide_type": "subslide"
    }
   },
   "source": [
    "**List comprehensions** provide a concise way to create lists. Common applications are to make new lists where each element is the result of some operations applied to each member of another sequence or iterable, or to create a subsequence of those elements that satisfy a certain condition."
   ]
  },
  {
   "cell_type": "code",
   "execution_count": null,
   "metadata": {
    "slideshow": {
     "slide_type": "fragment"
    }
   },
   "outputs": [],
   "source": [
    "squares = []\n",
    "for x in range(10):\n",
    "    squares.append(x**2)\n",
    "\n",
    "squares"
   ]
  },
  {
   "cell_type": "code",
   "execution_count": null,
   "metadata": {
    "slideshow": {
     "slide_type": "fragment"
    }
   },
   "outputs": [],
   "source": [
    "squares = [x**2 for x in range(10)]"
   ]
  },
  {
   "cell_type": "code",
   "execution_count": null,
   "metadata": {
    "slideshow": {
     "slide_type": "fragment"
    }
   },
   "outputs": [],
   "source": [
    "[f(xs) for xs in iter]\n",
    "# Loop over the specified iterable and apply some operation to generate new list elements"
   ]
  },
  {
   "cell_type": "code",
   "execution_count": null,
   "metadata": {
    "slideshow": {
     "slide_type": "fragment"
    }
   },
   "outputs": [],
   "source": [
    "[f(xs) for xs in iter if pred(xs)]\n",
    "# Only keep elements that satisfy a predicate condition"
   ]
  },
  {
   "cell_type": "code",
   "execution_count": 2,
   "metadata": {
    "slideshow": {
     "slide_type": "subslide"
    }
   },
   "outputs": [
    {
     "data": {
      "text/plain": [
       "[(1, 0),\n",
       " (2, 0),\n",
       " (2, 1),\n",
       " (3, 0),\n",
       " (3, 1),\n",
       " (3, 2),\n",
       " (4, 0),\n",
       " (4, 1),\n",
       " (4, 2),\n",
       " (4, 3)]"
      ]
     },
     "execution_count": 2,
     "metadata": {},
     "output_type": "execute_result"
    }
   ],
   "source": [
    "# [word.lower() for word in sentence]\n",
    "\n",
    "# [word for word in sentence if len(word) > 8]\n",
    "\n",
    "[(x, x ** 2, x ** 3) for x in range(10)]\n",
    "\n",
    "[(i,j) for i in range(5) for j in range(i)]"
   ]
  },
  {
   "cell_type": "code",
   "execution_count": 10,
   "metadata": {
    "slideshow": {
     "slide_type": "subslide"
    }
   },
   "outputs": [
    {
     "data": {
      "text/plain": [
       "[(3, 0), (3, 1), (3, 2), (4, 0), (4, 1), (4, 2), (4, 3)]"
      ]
     },
     "execution_count": 10,
     "metadata": {},
     "output_type": "execute_result"
    }
   ],
   "source": [
    "[(i,j) for i in range(5) if i >2 for j in range(i) ]"
   ]
  },
  {
   "cell_type": "code",
   "execution_count": 3,
   "metadata": {
    "slideshow": {
     "slide_type": "subslide"
    }
   },
   "outputs": [
    {
     "data": {
      "text/plain": [
       "[(1, 3), (1, 4), (2, 3), (2, 1), (2, 4), (3, 1), (3, 4)]"
      ]
     },
     "execution_count": 3,
     "metadata": {},
     "output_type": "execute_result"
    }
   ],
   "source": [
    "[(x, y) for x in [1,2,3] for y in [3,1,4] if x != y]"
   ]
  },
  {
   "cell_type": "markdown",
   "metadata": {
    "slideshow": {
     "slide_type": "fragment"
    }
   },
   "source": [
    "it’s equivalent to"
   ]
  },
  {
   "cell_type": "code",
   "execution_count": null,
   "metadata": {
    "slideshow": {
     "slide_type": "fragment"
    }
   },
   "outputs": [],
   "source": [
    "combs = []\n",
    "for x in [1,2,3]:\n",
    "    for y in [3,1,4]:\n",
    "        if x != y:\n",
    "            combs.append((x, y))\n",
    "combs"
   ]
  },
  {
   "cell_type": "code",
   "execution_count": 43,
   "metadata": {
    "slideshow": {
     "slide_type": "subslide"
    }
   },
   "outputs": [
    {
     "data": {
      "text/plain": [
       "{'one', 'three', 'two'}"
      ]
     },
     "execution_count": 43,
     "metadata": {},
     "output_type": "execute_result"
    }
   ],
   "source": [
    "# Dictionary Comprehensions\n",
    "# {key_func(vars):val_func(vars) for vars in iterable}\n",
    "{v:k for k, v in d.items()}\n",
    "{v for v in d}"
   ]
  },
  {
   "cell_type": "code",
   "execution_count": null,
   "metadata": {
    "slideshow": {
     "slide_type": "fragment"
    }
   },
   "outputs": [],
   "source": [
    "# Set Comprehensions\n",
    "{func(vars) for vars in iterable}\n",
    "{word for word in hamlet if is_palindrome(word.lower())}"
   ]
  },
  {
   "cell_type": "code",
   "execution_count": 49,
   "metadata": {
    "slideshow": {
     "slide_type": "subslide"
    }
   },
   "outputs": [
    {
     "data": {
      "text/plain": [
       "True"
      ]
     },
     "execution_count": 49,
     "metadata": {},
     "output_type": "execute_result"
    }
   ],
   "source": [
    "# (1, 2, 3)              < (1, 2, 4)                    # True\n",
    "# [1, 2, 3]              < [1, 2, 4]\n",
    "'ABC' < 'C'  < 'Psscal' < 'Python'\n",
    "# (1, 2, 3, 4)           < (1, 2, 4)\n",
    "# (1, 2)                 < (1, 2, -1)\n",
    "# (1, 2, 3)             == (1.0, 2.0, 3.0)\n",
    "# (1, 2, ('aa', 'ab'))   < (1, 2, ('abc', 'a'), 4)\n",
    "(1,) < ('a',)"
   ]
  },
  {
   "cell_type": "markdown",
   "metadata": {
    "slideshow": {
     "slide_type": "fragment"
    }
   },
   "source": [
    "Sequence objects may be compared to other objects with the same sequence type. The comparison uses lexicographical ordering: first the first two items are compared, and if they differ this determines the outcome of the comparison; if not, the next two items are compared, and so on..."
   ]
  },
  {
   "cell_type": "markdown",
   "metadata": {},
   "source": [
    "https://martinheinz.dev/blog/80"
   ]
  },
  {
   "cell_type": "markdown",
   "metadata": {
    "slideshow": {
     "slide_type": "slide"
    }
   },
   "source": [
    "## Time complexity???"
   ]
  },
  {
   "cell_type": "markdown",
   "metadata": {
    "slideshow": {
     "slide_type": "fragment"
    }
   },
   "source": [
    "[https://wiki.python.org/moin/TimeComplexity](https://wiki.python.org/moin/TimeComplexity)"
   ]
  },
  {
   "cell_type": "markdown",
   "metadata": {
    "slideshow": {
     "slide_type": "slide"
    }
   },
   "source": [
    "Source\n",
    "1. [http://treyhunner.com/2015/12/python-list-comprehensions-now-in-color/](http://treyhunner.com/2015/12/python-list-comprehensions-now-in-color/)\n"
   ]
  },
  {
   "cell_type": "markdown",
   "metadata": {
    "slideshow": {
     "slide_type": "slide"
    }
   },
   "source": [
    "## Is it really fast??"
   ]
  },
  {
   "cell_type": "code",
   "execution_count": 3,
   "metadata": {
    "slideshow": {
     "slide_type": "subslide"
    }
   },
   "outputs": [],
   "source": [
    "# https://codereview.stackexchange.com/questions/23441/are-these-list-comprehensions-written-the-fastest-possible-way\n",
    "import sys\n",
    "from datetime import datetime, timedelta\n",
    "import numpy\n",
    "from tqdm import tqdm\n",
    "import matplotlib.pyplot as pyplot\n",
    "pyplot.rcParams['figure.figsize'] = [10, 5]\n",
    "# %matplotlib notebook\n",
    "\n",
    "def doingnothing(n):\n",
    "    for i in range(n):\n",
    "        pass\n",
    "    return []\n",
    "\n",
    "def numpysum(n): #NPY\n",
    "    a = numpy.arange(n) ** 2.\n",
    "    b = numpy.arange(n) ** 3.\n",
    "    c = a + b\n",
    "    return c\n",
    "\n",
    "def listexpression(n):  #LE\n",
    "    #return [x**2+x**3 for x in range(n)]\n",
    "    return [x*x+x*x*x for x in range(n)]\n",
    "\n",
    "def dictcomprehension(n):  #DC\n",
    "    # a = {x:x**2+x**3 for x in range(n)}\n",
    "    a = {x:x*x+x*x*x for x in range(n)}\n",
    "    # return [a[key] for key in a]\n",
    "    return list(a.values())\n",
    "\n",
    "def pythonsum(n): #PS\n",
    "#     a = list(range(n))\n",
    "#     b = list(range(n))\n",
    "    c = []\n",
    "    \n",
    "    for i in range(n):\n",
    "        c.append(i**2 + i**3)\n",
    "\n",
    "#     for i in range(len(a)):\n",
    "#             # a[i] = i ** 2.\n",
    "#             a[i] = i * i \n",
    "#             # b[i] = i ** 3.\n",
    "#             b[i] = i * i * i\n",
    "#             c.append(a[i] + b[i])\n",
    "    return c\n",
    "\n",
    "def runtimetest(size,verbose=True,it=5):\n",
    "    v = verbose\n",
    "    d = {'DoingNothing':None,\n",
    "         'NPY':None,\n",
    "         'LE':None,\n",
    "         'DC':None,\n",
    "         'PS':None}\n",
    "\n",
    "    val = []\n",
    "    for i in range(it):\n",
    "        start = datetime.now()\n",
    "        c = doingnothing(size)\n",
    "        val.append(datetime.now() - start)\n",
    "    d['DoingNothing'] = sum(val, timedelta(0)) / len(val)\n",
    "\n",
    "    val = []\n",
    "    for i in range(it):\n",
    "        start = datetime.now()\n",
    "        c = numpysum(size)\n",
    "        val.append(datetime.now() - start)\n",
    "    d['NPY'] = sum(val, timedelta(0)) / len(val)\n",
    "\n",
    "    val = []\n",
    "    for i in range(it):\n",
    "        start = datetime.now()\n",
    "        c = listexpression(size)\n",
    "        val.append(datetime.now() - start)\n",
    "    d['LE'] = sum(val, timedelta(0)) / len(val)\n",
    "\n",
    "    val = []\n",
    "    for i in range(it):\n",
    "        start = datetime.now()\n",
    "        c = dictcomprehension(size)\n",
    "        val.append(datetime.now() - start)\n",
    "    d['DC'] = sum(val, timedelta(0)) / len(val)\n",
    "    \n",
    "    val = []\n",
    "    for i in range(it):\n",
    "        start = datetime.now()\n",
    "        c = pythonsum(size)\n",
    "        val.append(datetime.now() - start)\n",
    "    d['PS'] = sum(val, timedelta(0)) / len(val)\n",
    "        \n",
    "    return d\n",
    "\n",
    "def view(results):\n",
    "    \"\"\"\n",
    "    result['header']=['DoingNothing','NPY','LE','DC','PS']\n",
    "    result[3000]=[0.0, 0.0, 0.002, 0.003, 0.003001] \n",
    "    \"\"\"\n",
    "    if 'header' in results.keys():\n",
    "        results.pop('header')\n",
    "\n",
    "    steps,DN,NPY,LE,DC,PS=[],[],[],[],[],[] #I love multiple assignment!\n",
    "#     import pprint\n",
    "#     pprint.pprint(results)\n",
    "    for step in sorted(results):\n",
    "        steps.append(step)\n",
    "        DN.append(results[step][0])\n",
    "        NPY.append(results[step][1])\n",
    "        LE.append(results[step][2])\n",
    "        DC.append(results[step][3])\n",
    "        PS.append(results[step][4])\n",
    "\n",
    "    pyplot.plot(steps,DN)\n",
    "    pyplot.plot(steps,NPY)\n",
    "    pyplot.plot(steps,LE)\n",
    "    pyplot.plot(steps,DC)\n",
    "    pyplot.plot(steps,PS)\n",
    "    pyplot.legend(['Empty Loop', 'Numpy.Arange', 'List Comprehension', 'Dict Comprehension', 'Python for Loop'], loc='upper left')\n",
    "    scale = 'linear'\n",
    "    pyplot.xscale(scale)\n",
    "    pyplot.yscale(scale)\n",
    "    pyplot.title('runtime test')\n",
    "    pyplot.xlabel('length of list')\n",
    "    pyplot.ylabel('runtime in seconds')\n",
    "\n",
    "    pyplot.show()\n",
    "\n",
    "def longruntimetest(length, it):\n",
    "    if length<10**4:\n",
    "        length=10**4\n",
    "\n",
    "    result = {}\n",
    "    result['header']=['DoingNothing','NPY','LE','DC','PS']\n",
    "    for step in tqdm(range(10**3, length+1,10**3)):\n",
    "#         print(step)\n",
    "        t=runtimetest(step,verbose=False, it=it)        \n",
    "        result[step]=[t['DoingNothing'],t['NPY'],t['LE'],t['DC'],t['PS']]\n",
    "        for i in range(len(result[step])):\n",
    "            result[step][i]=round(result[step][i].seconds\n",
    "                                  +result[step][i].microseconds/10**6,6)\n",
    "\n",
    "    return result\n"
   ]
  },
  {
   "cell_type": "code",
   "execution_count": 8,
   "metadata": {
    "slideshow": {
     "slide_type": "subslide"
    }
   },
   "outputs": [],
   "source": [
    "testsize=10**4"
   ]
  },
  {
   "cell_type": "code",
   "execution_count": 9,
   "metadata": {
    "scrolled": true,
    "slideshow": {
     "slide_type": "fragment"
    }
   },
   "outputs": [
    {
     "name": "stderr",
     "output_type": "stream",
     "text": [
      "100%|██████████| 10/10 [00:01<00:00,  6.99it/s]\n"
     ]
    }
   ],
   "source": [
    "result = longruntimetest(testsize, 20)"
   ]
  },
  {
   "cell_type": "code",
   "execution_count": 10,
   "metadata": {
    "scrolled": true
   },
   "outputs": [
    {
     "data": {
      "image/png": "[encoded data removed]",
      "text/plain": [
       "<Figure size 1000x500 with 1 Axes>"
      ]
     },
     "metadata": {},
     "output_type": "display_data"
    }
   ],
   "source": [
    "view(result)"
   ]
  },
  {
   "cell_type": "markdown",
   "metadata": {},
   "source": [
    "## Self-reading"
   ]
  },
  {
   "cell_type": "markdown",
   "metadata": {},
   "source": [
    "- https://realpython.com/pointers-in-python/?fbclid=IwAR0cNGOTG3oL6-7gqZXgzGllS6FYHxjBMK8yrMT0SzW433yo87Vfc0SbxyY\n",
    "- https://mmazurek.dev/for-vs-list-comprehension-vs-map/?fbclid=IwAR1X8YDJE864J-umb05N_BjMtOvQyNDfFE_R8iO3A6tF7KcOA-is0ad-uj0"
   ]
  },
  {
   "cell_type": "code",
   "execution_count": null,
   "metadata": {},
   "outputs": [],
   "source": []
  }
 ],
 "metadata": {
  "celltoolbar": "Slideshow",
  "kernelspec": {
   "display_name": "Python 3.8.9 64-bit",
   "language": "python",
   "name": "python3"
  },
  "language_info": {
   "codemirror_mode": {
    "name": "ipython",
    "version": 3
   },
   "file_extension": ".py",
   "mimetype": "text/x-python",
   "name": "python",
   "nbconvert_exporter": "python",
   "pygments_lexer": "ipython3",
   "version": "3.8.9"
  },
  "vscode": {
   "interpreter": {
    "hash": "31f2aee4e71d21fbe5cf8b01ff0e069b9275f58929596ceb00d14d90e3e16cd6"
   }
  }
 },
 "nbformat": 4,
 "nbformat_minor": 2
}
